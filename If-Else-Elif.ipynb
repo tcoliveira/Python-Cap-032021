{
 "cells": [
  {
   "cell_type": "markdown",
   "metadata": {},
   "source": [
    "# Conditional IF"
   ]
  },
  {
   "cell_type": "code",
   "execution_count": 1,
   "metadata": {},
   "outputs": [
    {
     "name": "stdout",
     "output_type": "stream",
     "text": [
      "funciona\n"
     ]
    }
   ],
   "source": [
    "#If\n",
    "if 5 > 2:\n",
    "    print('funciona')"
   ]
  },
  {
   "cell_type": "code",
   "execution_count": 2,
   "metadata": {},
   "outputs": [
    {
     "name": "stdout",
     "output_type": "stream",
     "text": [
      "funciona\n"
     ]
    }
   ],
   "source": [
    "#If..else\n",
    "if 5>2 :\n",
    "    print('funciona')\n",
    "else:\n",
    "    print('errado')"
   ]
  },
  {
   "cell_type": "code",
   "execution_count": 3,
   "metadata": {},
   "outputs": [
    {
     "name": "stdout",
     "output_type": "stream",
     "text": [
      "errado\n"
     ]
    }
   ],
   "source": [
    "#If..else\n",
    "if 5<2 :\n",
    "    print('funciona')\n",
    "else:\n",
    "    print('errado')"
   ]
  },
  {
   "cell_type": "code",
   "execution_count": 4,
   "metadata": {},
   "outputs": [
    {
     "name": "stdout",
     "output_type": "stream",
     "text": [
      "true\n"
     ]
    }
   ],
   "source": [
    "if True:\n",
    "    print('true')"
   ]
  },
  {
   "cell_type": "markdown",
   "metadata": {},
   "source": [
    "# Condicionais aninhados"
   ]
  },
  {
   "cell_type": "code",
   "execution_count": 5,
   "metadata": {},
   "outputs": [
    {
     "name": "stdout",
     "output_type": "stream",
     "text": [
      "voce pode dirigir\n"
     ]
    }
   ],
   "source": [
    "idade = 18\n",
    "if idade > 17:\n",
    "    print('voce pode dirigir')"
   ]
  },
  {
   "cell_type": "code",
   "execution_count": 6,
   "metadata": {},
   "outputs": [
    {
     "name": "stdout",
     "output_type": "stream",
     "text": [
      "ok bob, voce pode entrar\n"
     ]
    }
   ],
   "source": [
    "Nome = 'bob'\n",
    "if idade >13:\n",
    "    if Nome =='bob':\n",
    "        print('ok bob, voce pode entrar')\n",
    "    else:\n",
    "        print('Voce nao é bob, nao pode entrar')"
   ]
  },
  {
   "cell_type": "code",
   "execution_count": 9,
   "metadata": {},
   "outputs": [
    {
     "name": "stdout",
     "output_type": "stream",
     "text": [
      "ok bob, voce pode entrar\n"
     ]
    }
   ],
   "source": [
    "idade = 13\n",
    "Nome = 'bob'\n",
    "if idade >=13 and Nome =='bob':\n",
    "        print('ok bob, voce pode entrar')\n",
    "else:\n",
    "        print('Voce nao é bob, nao pode entrar')"
   ]
  },
  {
   "cell_type": "markdown",
   "metadata": {},
   "source": [
    "# Elif"
   ]
  },
  {
   "cell_type": "code",
   "execution_count": 10,
   "metadata": {},
   "outputs": [
    {
     "name": "stdout",
     "output_type": "stream",
     "text": [
      "Hoje vai chover\n"
     ]
    }
   ],
   "source": [
    "dia = 'Terça'\n",
    "if dia =='Segunda':\n",
    "    print('Hoje fará sol')\n",
    "else:\n",
    "    print('Hoje vai chover')"
   ]
  },
  {
   "cell_type": "code",
   "execution_count": 12,
   "metadata": {},
   "outputs": [
    {
     "name": "stdout",
     "output_type": "stream",
     "text": [
      "Hoje fará sol\n"
     ]
    }
   ],
   "source": [
    "dia = 'Segunda'\n",
    "if dia =='Segunda':\n",
    "    print('Hoje fará sol')\n",
    "elif dia == 'Terça':\n",
    "    print('Hoje vai chover')\n",
    "else:\n",
    "    print('Sem previsão')"
   ]
  },
  {
   "cell_type": "markdown",
   "metadata": {},
   "source": [
    "# Operadores lógicos"
   ]
  },
  {
   "cell_type": "code",
   "execution_count": 13,
   "metadata": {},
   "outputs": [
    {
     "name": "stdout",
     "output_type": "stream",
     "text": [
      "Digite a disciplina: Geografia\n",
      "Digite a nota final: 69\n",
      "Reprovado\n"
     ]
    }
   ],
   "source": [
    "#usando mais de uma condição na clausula if\n",
    "\n",
    "disciplina = input('Digite a disciplina: ')\n",
    "nota_final = input('Digite a nota final: ')\n",
    "if disciplina == 'Geografia' and nota_final >='70':\n",
    "    print('Voce foi aprovado')\n",
    "else:\n",
    "    print('Reprovado')"
   ]
  },
  {
   "cell_type": "code",
   "execution_count": 14,
   "metadata": {},
   "outputs": [
    {
     "name": "stdout",
     "output_type": "stream",
     "text": [
      "Digite a disciplina: Geografia\n",
      "Digite a nota final: 51\n",
      "Digite o semestre: 5\n",
      "Voce foi aprovado em Geografia com média final '51'\n"
     ]
    }
   ],
   "source": [
    "#Usando placeholders\n",
    "disciplina = input('Digite a disciplina: ')\n",
    "nota_final = input('Digite a nota final: ')\n",
    "semestre = input('Digite o semestre: ')\n",
    "\n",
    "if disciplina == 'Geografia' and nota_final >='50' and int(semestre) !=1:\n",
    "    print('Voce foi aprovado em %s com média final %r' %(disciplina, nota_final))\n",
    "else:\n",
    "    print('Reprovado')"
   ]
  },
  {
   "cell_type": "code",
   "execution_count": null,
   "metadata": {},
   "outputs": [],
   "source": []
  }
 ],
 "metadata": {
  "kernelspec": {
   "display_name": "Python 3",
   "language": "python",
   "name": "python3"
  },
  "language_info": {
   "codemirror_mode": {
    "name": "ipython",
    "version": 3
   },
   "file_extension": ".py",
   "mimetype": "text/x-python",
   "name": "python",
   "nbconvert_exporter": "python",
   "pygments_lexer": "ipython3",
   "version": "3.8.5"
  }
 },
 "nbformat": 4,
 "nbformat_minor": 4
}
